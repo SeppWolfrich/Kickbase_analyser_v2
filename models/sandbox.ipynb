{
 "cells": [],
 "metadata": {
  "kernelspec": {
   "display_name": "Python 3.9.0 ('venv': venv)",
   "language": "python",
   "name": "python3"
  },
  "language_info": {
   "codemirror_mode": {
    "name": "ipython",
    "version": 3
   },
   "file_extension": ".py",
   "mimetype": "text/x-python",
   "name": "python",
   "nbconvert_exporter": "python",
   "pygments_lexer": "ipython3",
   "version": "3.9.0"
  },
  "orig_nbformat": 4,
  "vscode": {
   "interpreter": {
    "hash": "e899fe53dc404a523e3582b7e87a1665183f53520fe1dcc3847e1fcff765c96e"
   }
  }
 },
 "nbformat": 4,
 "nbformat_minor": 2
}
